{
 "cells": [
  {
   "cell_type": "markdown",
   "id": "b1c0b56a",
   "metadata": {},
   "source": [
    "# Naive Bayes"
   ]
  },
  {
   "cell_type": "markdown",
   "id": "511b0d7b",
   "metadata": {},
   "source": [
    "- supervised algorithm\n",
    "\n",
    "\n",
    "- classification based on conditional probabilities:\n",
    "\n",
    "\n",
    "**$P(A|B)$**    **probability of event A, knowing that event B has already occured**\n",
    "\n",
    "\n",
    "- finding a conditional probability:\n",
    "\n",
    "$$ P(A|B)=\\frac{P(B|A) * P(A)}{P(B)} \\quad (1.1) $$\n",
    " \n",
    "\n",
    "**\"probabilty for event a, if event B has occured is the multiplication of probability for event B, if event A has occured times probability for event A divided by probability for event B\"**\n",
    "\n",
    "\n",
    "\n",
    "\n"
   ]
  },
  {
   "cell_type": "markdown",
   "id": "8ffcad91",
   "metadata": {},
   "source": [
    "### Example card deck:\n",
    "\n",
    "What is the probability to draw a queen, if you know you will draw a diamon?\n",
    "\n",
    "- cards in total: 52\n",
    "- diamonds: 13\n",
    "- queens: 4\n",
    "\n",
    "\n",
    "$$P(queen|diamond) = \\frac{P(diamond|queen)\\cdot P(queen)}{P(diamond)} \\quad (1.2) $$\n",
    "\n",
    "\n",
    "\n",
    "\n",
    "- P(diamond|queen): 1/4 (Probability to have diamond if you have a queen)\n",
    "\n",
    "\n",
    "\n",
    "- P(Queen): 1/4\n",
    "\n",
    "\n",
    "\n",
    "- P(diamond): 1/13 \n",
    "\n",
    "\n",
    "\n"
   ]
  },
  {
   "cell_type": "markdown",
   "id": "c0ec69e2",
   "metadata": {},
   "source": [
    "- or:\n",
    "\n",
    "$$ P(y|X)=\\frac{P(X|y)\\cdot P(y)}{P(X)} \\quad (1.3) $$ \n",
    "\n",
    "- **X - Feature-Vector** \n",
    "\n",
    "\n",
    "\n",
    "- **y- Label-Vektor**"
   ]
  },
  {
   "cell_type": "markdown",
   "id": "b42ffc0a",
   "metadata": {},
   "source": [
    "### assumption: all features are mutually independent \n",
    "\n",
    "\n",
    "- with this assumption we cann apply the chain rule on (1.3)\n",
    "\n",
    "\n",
    "\n",
    "- P(y|X) is called **posterior probability**\n",
    "\n",
    "\n",
    "\n",
    "- P(X|y) is called **Classconditional probability**\n",
    "\n",
    "\n",
    "\n",
    "\n",
    "- P(y) is called **prior probablity of y**; simply the **frequency**\n",
    "\n",
    "\n",
    "\n",
    "- P(X) is called **prior probablity of X**\n",
    "\n",
    "\n",
    "\n",
    "$$ P(y|X)=\\frac{P(x_1|y)\\cdot P(x_2|y)...\\cdot P(x_n|y)\\cdot P(y)}{P(X)} \\quad (1.4)$$ "
   ]
  },
  {
   "cell_type": "markdown",
   "id": "273337ef",
   "metadata": {},
   "source": [
    "### select class with highest probability"
   ]
  },
  {
   "cell_type": "markdown",
   "id": "fdf8fc5d",
   "metadata": {},
   "source": [
    "$$ y = argmax_yP(y|X) = argmax_y \\frac{P(x_1|y) \\cdot P(x_2|y) \\cdot ... \\cdot P(x_n|y) * P(y)}{P(X)} \\quad (1.5) $$"
   ]
  },
  {
   "cell_type": "markdown",
   "id": "b96be650",
   "metadata": {},
   "source": [
    "- **P(X) irrelevant**; so we receive from (1.5):"
   ]
  },
  {
   "cell_type": "markdown",
   "id": "1e51645b",
   "metadata": {},
   "source": [
    "$$ y = argmax_yP(x_1|y) \\cdot P(x_2|y) \\cdot P(y) \\quad (1.6) $$ "
   ]
  },
  {
   "cell_type": "markdown",
   "id": "e767d96d",
   "metadata": {},
   "source": [
    "- problem: as every probability lays between 0 and 1 (1.6) would produce a very small number; to counteract this, we use the logarithm, change multiplikation into summation and receive (1.7)"
   ]
  },
  {
   "cell_type": "markdown",
   "id": "7634bb29",
   "metadata": {},
   "source": [
    "$$ y=argmax_y log(P(x_1|y))+log(P(x_2|y))+...+log(P(x_n|y))+log(P(y)) \\quad (1.7) $$"
   ]
  },
  {
   "cell_type": "markdown",
   "id": "3a16de93",
   "metadata": {},
   "source": [
    "### Modeling the classconditional probability $P(x_i|y)$"
   ]
  },
  {
   "cell_type": "markdown",
   "id": "e7e18de1",
   "metadata": {},
   "source": [
    "- using **Gaussian Distribution** for this"
   ]
  },
  {
   "cell_type": "markdown",
   "id": "b948a575",
   "metadata": {},
   "source": [
    "$$ P(x_i|y)=\\frac{1}{\\sqrt{2 \\cdot \\pi \\cdot \\sigma_y^2}} \\cdot \\exp{-\\frac{(x_i-\\mu_y)^2}{2\\sigma_y^2}} \\quad (1.8) $$"
   ]
  },
  {
   "attachments": {
    "Training_smaller.PNG": {
     "image/png": "[encoded data removed]"
    }
   },
   "cell_type": "markdown",
   "id": "0e59f483",
   "metadata": {},
   "source": [
    "## Algorithm Summary\n",
    "\n",
    "### Training\n",
    "- 1) get all **unique classes** of the training data\n",
    "\n",
    "\n",
    "\n",
    "- 2) extract the **submatrix of features** for each \n",
    "\n",
    "\n",
    "\n",
    "- 3) for each submatrix, calculate for each **feature** the **mean and variance**. \n",
    "\n",
    "\n",
    "\n",
    "- 4) for each unique class, calculate its **probability** based on its occurence in the training data\n",
    "\n",
    "\n",
    "![Training_smaller.PNG](attachment:Training_smaller.PNG)\n",
    "\n",
    "\n",
    "\n",
    "## Prediction\n",
    "\n",
    "- 1) take the feature values of a given sample & calculate the class probability according to (1.8) for each\n",
    "\n",
    "\n",
    "- 2) add it to the given probabilites for each training sample\n",
    "\n",
    "\n",
    "- 3) get the index of the class that has the highest probability. this will be the classification class"
   ]
  },
  {
   "cell_type": "code",
   "execution_count": 41,
   "id": "cf5dc635",
   "metadata": {},
   "outputs": [],
   "source": [
    "import numpy as np\n",
    "from math import pi\n",
    "\n",
    "\n",
    "class NaiveBayes:\n",
    "    \n",
    "    # doesn't need an init()-method\n",
    "    def __init__(self):\n",
    "        pass\n",
    "    \n",
    "# EXPLANATION FOR FIT METHOD\n",
    "    def fit(self, X, y):\n",
    "        self.n_samples, self.n_features = X.shape\n",
    "        \n",
    "        # get every unique class in the training-label vector y & get the amount of them\n",
    "        self.unique_classes = np.unique(y)\n",
    "        self.n_unique_classes = len(self.unique_classes)\n",
    "        \n",
    "        \n",
    "        # initialize mean, variance, priors\n",
    "                \n",
    "        # for each unique class we calculate a mean & and variance for each feature column\n",
    "        self.mean = np.zeros((self.n_unique_classes, self.n_features))\n",
    "        self.var = np.zeros((self.n_unique_classes, self.n_features))\n",
    "        \n",
    "        # for each unique class we want one prior\n",
    "        self.prior_probabilities = np.zeros(self.n_unique_classes)\n",
    "        \n",
    "        # loop over all unique classes and calculate their according\n",
    "        # 1) featurecolumn-mean\n",
    "        # 2) featurecolumn-variance \n",
    "        # 3) the probability for this class\n",
    "        for unique_class in self.unique_classes:\n",
    "            \n",
    "            # first, create a submatrix (X_crop), containing for each unique class the according feature rows\n",
    "            X_crop_giving_this_class = X[y == unique_class]\n",
    "            \n",
    "            # 1) for each feature column of the submatrix, calculate the mean feature value leading to this classification\n",
    "            self.mean[unique_class, :] = X_crop_giving_this_class.mean(axis = 0)\n",
    "            \n",
    "            # 2) for each feature column of the submatrix, calculate the variance of the feature value, \n",
    "            # leading to this classification\n",
    "            self.var[unique_class, :] = X_crop_giving_this_class.var(axis = 0)\n",
    "            \n",
    "            # 3) calculate the prior probability for this class by dividing the amount samples leading to the current\n",
    "            # classification, divided by the total amount of samples\n",
    "            self.prior_probabilities[unique_class] = X_crop_giving_this_class.shape[0] / self.n_samples\n",
    "\n",
    "    \n",
    "    # function to apply the prediction after fitting. it is possible to give the prediction method \n",
    "    # a feature vector with > 1 feature row, that means to perform more than one prediction at once\n",
    "    def predict(self, X):\n",
    "        \n",
    "        # extract each feature row of the feature vector and perform a prediction for each seperately;\n",
    "        y_hat = [self._predict(x) for x in X]\n",
    "        return y_hat \n",
    "    \n",
    "    \n",
    "    # helperfunction to apply (1.7)\n",
    "    def _predict(self, x):\n",
    "        posterior_probabilities = []\n",
    "        \n",
    "        # loop over every unique class of the training data \n",
    "        for index, unique_class in enumerate(self.unique_classes):\n",
    "            \n",
    "            # extract the current class probability\n",
    "            prior_probability = np.log(self.prior_probabilities[index])\n",
    "            \n",
    "            # apply (1.7) using a helperfunction to calculate the class probabilites. this will return \n",
    "            # a vector of class conditionals\n",
    "            class_conditional_array = np.log(self.calculate_class_conditional_probability(index, x))\n",
    "            \n",
    "            # (1.7) requires to sum all of the class conditionals up\n",
    "            class_conditional = np.sum(class_conditional_array)\n",
    "            \n",
    "            # calculate the probability for each unique class based on the current feature row and append it to a list\n",
    "            posterior_probability  = prior_probability + class_conditional\n",
    "            posterior_probabilities.append(posterior_probability)\n",
    "        \n",
    "        # apply the argmax-function to find out the index of the highest probability and get the class at this index\n",
    "        y_hat = self.unique_classes[np.argmax(posterior_probabilities)]\n",
    "            \n",
    "        return y_hat\n",
    "            \n",
    "    # helperfunction to apply (1.8)\n",
    "    def calculate_class_conditional_probability(self, class_index, x):\n",
    "        \n",
    "        # extract the mean & var at the given class index\n",
    "        mean = self.mean[class_index]\n",
    "        var = self.var[class_index]\n",
    "        \n",
    "        # apply (1.8)\n",
    "        class_conditional_probability = (1 / (np.sqrt(2 * pi * var))) * np.exp(-((x - mean) **2) / (2 * var **2))\n",
    "        \n",
    "        return class_conditional_probability\n",
    "        \n",
    "        \n",
    "    # helperfunction to calculate the accuracy of the trained model from y_hat and y_test data\n",
    "    def calculate_accuracy(self, y_hat, y_test):\n",
    "        \n",
    "        # accuracy is the sum of all correct classifications, divided by the total amount of classifications\n",
    "        accuracy = np.sum(y_hat == y_test) / len(y_test)\n",
    "        \n",
    "        return accuracy"
   ]
  },
  {
   "cell_type": "markdown",
   "id": "55ac2582",
   "metadata": {},
   "source": [
    "## Test our model"
   ]
  },
  {
   "cell_type": "code",
   "execution_count": 42,
   "id": "f1add04a",
   "metadata": {},
   "outputs": [
    {
     "name": "stdout",
     "output_type": "stream",
     "text": [
      "0.975\n"
     ]
    }
   ],
   "source": [
    "import numpy as np\n",
    "from sklearn.model_selection import train_test_split\n",
    "from sklearn import datasets\n",
    "import matplotlib.pyplot as plt\n",
    "\n",
    "\n",
    "\n",
    "\n",
    "X, y = datasets.make_classification(n_samples = 1000, n_features = 10, n_classes = 2, random_state = 123)\n",
    "X_train, X_test, y_train, y_test = train_test_split(X, y, test_size = 0.2, random_state = 123)\n",
    "\n",
    "\n",
    "\n",
    "naive_bayes_classifier = NaiveBayes()\n",
    "naive_bayes_classifier.fit(X_train, y_train)\n",
    "y_hat = naive_bayes_classifier.predict(X_test)\n",
    "\n",
    "\n",
    "accuracy = naive_bayes_classifier.calculate_accuracy(y_hat, y_test)\n",
    "print(accuracy)\n",
    "\n"
   ]
  },
  {
   "cell_type": "code",
   "execution_count": null,
   "id": "33827fc2",
   "metadata": {},
   "outputs": [],
   "source": []
  }
 ],
 "metadata": {
  "kernelspec": {
   "display_name": "Python 3 (ipykernel)",
   "language": "python",
   "name": "python3"
  },
  "language_info": {
   "codemirror_mode": {
    "name": "ipython",
    "version": 3
   },
   "file_extension": ".py",
   "mimetype": "text/x-python",
   "name": "python",
   "nbconvert_exporter": "python",
   "pygments_lexer": "ipython3",
   "version": "3.8.12"
  }
 },
 "nbformat": 4,
 "nbformat_minor": 5
}
